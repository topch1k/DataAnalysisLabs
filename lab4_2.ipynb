{
 "cells": [
  {
   "cell_type": "code",
   "execution_count": 1,
   "id": "88831b52",
   "metadata": {},
   "outputs": [],
   "source": [
    "from keras.datasets import fashion_mnist\n",
    "from keras.models import Sequential\n",
    "from keras.layers import Dense, Conv2D, MaxPool2D, Flatten\n",
    "from keras.utils import np_utils\n",
    "from sklearn.metrics import accuracy_score\n",
    "import matplotlib.pyplot as plt"
   ]
  },
  {
   "cell_type": "code",
   "execution_count": 2,
   "id": "ccabba36",
   "metadata": {},
   "outputs": [
    {
     "name": "stdout",
     "output_type": "stream",
     "text": [
      "Epoch 1/10\n",
      "235/235 [==============================] - 25s 105ms/step - loss: 5.5154 - accuracy: 0.7891 - val_loss: 0.5060 - val_accuracy: 0.8454\n",
      "Epoch 2/10\n",
      "235/235 [==============================] - 23s 97ms/step - loss: 0.3965 - accuracy: 0.8688 - val_loss: 0.4159 - val_accuracy: 0.8657\n",
      "Epoch 3/10\n",
      "235/235 [==============================] - 23s 96ms/step - loss: 0.3008 - accuracy: 0.8953 - val_loss: 0.3901 - val_accuracy: 0.8748\n",
      "Epoch 4/10\n",
      "235/235 [==============================] - 23s 97ms/step - loss: 0.2633 - accuracy: 0.9063 - val_loss: 0.3834 - val_accuracy: 0.8794\n",
      "Epoch 5/10\n",
      "235/235 [==============================] - 23s 96ms/step - loss: 0.2253 - accuracy: 0.9197 - val_loss: 0.3788 - val_accuracy: 0.8790\n",
      "Epoch 6/10\n",
      "235/235 [==============================] - 23s 100ms/step - loss: 0.1957 - accuracy: 0.9294 - val_loss: 0.4047 - val_accuracy: 0.8791\n",
      "Epoch 7/10\n",
      "235/235 [==============================] - 27s 113ms/step - loss: 0.1771 - accuracy: 0.9362 - val_loss: 0.3941 - val_accuracy: 0.8815\n",
      "Epoch 8/10\n",
      "235/235 [==============================] - 28s 119ms/step - loss: 0.1606 - accuracy: 0.9422 - val_loss: 0.4171 - val_accuracy: 0.8833\n",
      "Epoch 9/10\n",
      "235/235 [==============================] - 28s 118ms/step - loss: 0.1486 - accuracy: 0.9458 - val_loss: 0.4283 - val_accuracy: 0.8825\n",
      "Epoch 10/10\n",
      "235/235 [==============================] - 28s 119ms/step - loss: 0.1351 - accuracy: 0.9513 - val_loss: 0.4372 - val_accuracy: 0.8825\n"
     ]
    }
   ],
   "source": [
    "(xTrain, yTrain), (xTest, yTest) = fashion_mnist.load_data()\n",
    "\n",
    "xTrain = xTrain.reshape(xTrain.shape[0], 28, 28, 1)\n",
    "xTest = xTest.reshape(xTest.shape[0], 28, 28, 1)\n",
    "\n",
    "\n",
    "n_classes = 10\n",
    "yTrain = np_utils.to_categorical(yTrain, n_classes)\n",
    "yTest = np_utils.to_categorical(yTest, n_classes)\n",
    "\n",
    "model = Sequential()\n",
    "model.add(Conv2D(30, kernel_size=(3,3), strides=(1,1), padding='valid', activation='relu', input_shape=(28,28,1)))\n",
    "model.add(MaxPool2D(pool_size=(1,1)))\n",
    "model.add(Flatten())\n",
    "model.add(Dense(100, activation='relu'))\n",
    "model.add(Dense(10, activation='softmax'))\n",
    "\n",
    "model.compile(loss='categorical_crossentropy', metrics=['accuracy'], optimizer='adam')\n",
    "\n",
    "history = model.fit(xTrain, yTrain, batch_size=256, epochs=10, validation_data=(xTest, yTest))"
   ]
  },
  {
   "cell_type": "code",
   "execution_count": 3,
   "id": "95257e5f",
   "metadata": {},
   "outputs": [
    {
     "data": {
      "image/png": "[encoded data removed]",
      "text/plain": [
       "<Figure size 432x288 with 1 Axes>"
      ]
     },
     "metadata": {
      "needs_background": "light"
     },
     "output_type": "display_data"
    }
   ],
   "source": [
    "history_dict = history.history\n",
    "history_dict.keys()\n",
    "\n",
    "history_dict = history.history\n",
    "loss_values = history_dict[\"loss\"]\n",
    "val_loss_values = history_dict[\"val_loss\"]\n",
    "epochs = range(1, len(loss_values) + 1)\n",
    "plt.plot(epochs, loss_values, \"bo\", label=\"Training loss\")\n",
    "plt.plot(epochs, val_loss_values, \"b\", label=\"Validation loss\")\n",
    "plt.title(\"Training and validation loss\")\n",
    "plt.xlabel(\"Epochs\")\n",
    "plt.ylabel(\"Loss\")\n",
    "plt.legend()\n",
    "plt.show()"
   ]
  },
  {
   "cell_type": "code",
   "execution_count": null,
   "id": "04696c78",
   "metadata": {},
   "outputs": [],
   "source": []
  }
 ],
 "metadata": {
  "kernelspec": {
   "display_name": "Python 3",
   "language": "python",
   "name": "python3"
  },
  "language_info": {
   "codemirror_mode": {
    "name": "ipython",
    "version": 3
   },
   "file_extension": ".py",
   "mimetype": "text/x-python",
   "name": "python",
   "nbconvert_exporter": "python",
   "pygments_lexer": "ipython3",
   "version": "3.8.8"
  }
 },
 "nbformat": 4,
 "nbformat_minor": 5
}
