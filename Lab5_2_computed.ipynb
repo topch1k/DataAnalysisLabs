{
 "cells": [
  {
   "cell_type": "code",
   "execution_count": 1,
   "id": "16d56bc9",
   "metadata": {
    "execution": {
     "iopub.execute_input": "2022-01-03T10:48:20.077569Z",
     "iopub.status.busy": "2022-01-03T10:48:20.075929Z",
     "iopub.status.idle": "2022-01-03T10:48:25.762269Z",
     "shell.execute_reply": "2022-01-03T10:48:25.761700Z",
     "shell.execute_reply.started": "2022-01-03T10:41:26.153439Z"
    },
    "papermill": {
     "duration": 5.703644,
     "end_time": "2022-01-03T10:48:25.762452",
     "exception": false,
     "start_time": "2022-01-03T10:48:20.058808",
     "status": "completed"
    },
    "tags": []
   },
   "outputs": [],
   "source": [
    "import tensorflow as tf\n",
    "from tensorflow.keras import layers\n",
    "import seaborn as sns\n",
    "import numpy as np\n",
    "import pandas as pd\n",
    "import matplotlib.pyplot as plt\n",
    "from tensorflow.keras import layers\n",
    "import time\n",
    "from PIL import Image\n",
    "from keras.datasets.fashion_mnist import load_data"
   ]
  },
  {
   "cell_type": "code",
   "execution_count": 2,
   "id": "2c0d6ce3",
   "metadata": {
    "execution": {
     "iopub.execute_input": "2022-01-03T10:48:25.794497Z",
     "iopub.status.busy": "2022-01-03T10:48:25.793147Z",
     "iopub.status.idle": "2022-01-03T10:48:25.795264Z",
     "shell.execute_reply": "2022-01-03T10:48:25.795709Z",
     "shell.execute_reply.started": "2022-01-03T10:41:26.161946Z"
    },
    "papermill": {
     "duration": 0.0192,
     "end_time": "2022-01-03T10:48:25.795844",
     "exception": false,
     "start_time": "2022-01-03T10:48:25.776644",
     "status": "completed"
    },
    "tags": []
   },
   "outputs": [],
   "source": [
    "np.random.seed(1337)\n",
    "num_classes = 10\n",
    "\n",
    "epochs = 10\n",
    "latent_dim = 128\n",
    "\n",
    "adam_lr = 0.0002\n",
    "adam_beta_1 = 0.5"
   ]
  },
  {
   "cell_type": "code",
   "execution_count": 3,
   "id": "9bfd6747",
   "metadata": {
    "execution": {
     "iopub.execute_input": "2022-01-03T10:48:25.825901Z",
     "iopub.status.busy": "2022-01-03T10:48:25.823238Z",
     "iopub.status.idle": "2022-01-03T10:48:30.661017Z",
     "shell.execute_reply": "2022-01-03T10:48:30.660578Z",
     "shell.execute_reply.started": "2022-01-03T10:41:26.170695Z"
    },
    "papermill": {
     "duration": 4.853365,
     "end_time": "2022-01-03T10:48:30.661174",
     "exception": false,
     "start_time": "2022-01-03T10:48:25.807809",
     "status": "completed"
    },
    "tags": []
   },
   "outputs": [
    {
     "name": "stdout",
     "output_type": "stream",
     "text": [
      "Downloading data from https://storage.googleapis.com/tensorflow/tf-keras-datasets/train-labels-idx1-ubyte.gz\n",
      "32768/29515 [=================================] - 0s 0us/step\n",
      "40960/29515 [=========================================] - 0s 0us/step\n",
      "Downloading data from https://storage.googleapis.com/tensorflow/tf-keras-datasets/train-images-idx3-ubyte.gz\n",
      "26427392/26421880 [==============================] - 0s 0us/step\n",
      "26435584/26421880 [==============================] - 0s 0us/step\n",
      "Downloading data from https://storage.googleapis.com/tensorflow/tf-keras-datasets/t10k-labels-idx1-ubyte.gz\n",
      "16384/5148 [===============================================================================================] - 0s 0us/step\n",
      "Downloading data from https://storage.googleapis.com/tensorflow/tf-keras-datasets/t10k-images-idx3-ubyte.gz\n",
      "4423680/4422102 [==============================] - 0s 0us/step\n",
      "4431872/4422102 [==============================] - 0s 0us/step\n"
     ]
    },
    {
     "name": "stderr",
     "output_type": "stream",
     "text": [
      "2022-01-03 10:48:27.978622: I tensorflow/stream_executor/cuda/cuda_gpu_executor.cc:937] successful NUMA node read from SysFS had negative value (-1), but there must be at least one NUMA node, so returning NUMA node zero\n",
      "2022-01-03 10:48:28.087432: I tensorflow/stream_executor/cuda/cuda_gpu_executor.cc:937] successful NUMA node read from SysFS had negative value (-1), but there must be at least one NUMA node, so returning NUMA node zero\n",
      "2022-01-03 10:48:28.088162: I tensorflow/stream_executor/cuda/cuda_gpu_executor.cc:937] successful NUMA node read from SysFS had negative value (-1), but there must be at least one NUMA node, so returning NUMA node zero\n",
      "2022-01-03 10:48:28.090584: I tensorflow/core/platform/cpu_feature_guard.cc:142] This TensorFlow binary is optimized with oneAPI Deep Neural Network Library (oneDNN) to use the following CPU instructions in performance-critical operations:  AVX2 AVX512F FMA\n",
      "To enable them in other operations, rebuild TensorFlow with the appropriate compiler flags.\n",
      "2022-01-03 10:48:28.091630: I tensorflow/stream_executor/cuda/cuda_gpu_executor.cc:937] successful NUMA node read from SysFS had negative value (-1), but there must be at least one NUMA node, so returning NUMA node zero\n",
      "2022-01-03 10:48:28.092569: I tensorflow/stream_executor/cuda/cuda_gpu_executor.cc:937] successful NUMA node read from SysFS had negative value (-1), but there must be at least one NUMA node, so returning NUMA node zero\n",
      "2022-01-03 10:48:28.093460: I tensorflow/stream_executor/cuda/cuda_gpu_executor.cc:937] successful NUMA node read from SysFS had negative value (-1), but there must be at least one NUMA node, so returning NUMA node zero\n",
      "2022-01-03 10:48:29.945947: I tensorflow/stream_executor/cuda/cuda_gpu_executor.cc:937] successful NUMA node read from SysFS had negative value (-1), but there must be at least one NUMA node, so returning NUMA node zero\n",
      "2022-01-03 10:48:29.946752: I tensorflow/stream_executor/cuda/cuda_gpu_executor.cc:937] successful NUMA node read from SysFS had negative value (-1), but there must be at least one NUMA node, so returning NUMA node zero\n",
      "2022-01-03 10:48:29.947389: I tensorflow/stream_executor/cuda/cuda_gpu_executor.cc:937] successful NUMA node read from SysFS had negative value (-1), but there must be at least one NUMA node, so returning NUMA node zero\n",
      "2022-01-03 10:48:29.947954: I tensorflow/core/common_runtime/gpu/gpu_device.cc:1510] Created device /job:localhost/replica:0/task:0/device:GPU:0 with 15403 MB memory:  -> device: 0, name: Tesla P100-PCIE-16GB, pci bus id: 0000:00:04.0, compute capability: 6.0\n"
     ]
    }
   ],
   "source": [
    "batch_size = 64\n",
    "(x_train, _), (x_test, _) = load_data()\n",
    "all_images = np.concatenate([x_train, x_test])\n",
    "all_images = all_images.astype(\"float32\") / 255\n",
    "all_images = np.reshape(all_images, (-1, 28, 28, 1))\n",
    "dataset = tf.data.Dataset.from_tensor_slices(all_images)\n",
    "dataset = dataset.shuffle(buffer_size=1024).batch(batch_size).prefetch(32)"
   ]
  },
  {
   "cell_type": "code",
   "execution_count": 4,
   "id": "92b68ef1",
   "metadata": {
    "execution": {
     "iopub.execute_input": "2022-01-03T10:48:30.708154Z",
     "iopub.status.busy": "2022-01-03T10:48:30.707325Z",
     "iopub.status.idle": "2022-01-03T10:48:30.709086Z",
     "shell.execute_reply": "2022-01-03T10:48:30.709500Z",
     "shell.execute_reply.started": "2022-01-03T10:41:27.073212Z"
    },
    "papermill": {
     "duration": 0.02823,
     "end_time": "2022-01-03T10:48:30.709627",
     "exception": false,
     "start_time": "2022-01-03T10:48:30.681397",
     "status": "completed"
    },
    "tags": []
   },
   "outputs": [],
   "source": [
    "def define_discriminator():\n",
    "    model = tf.keras.Sequential(\n",
    "        [\n",
    "            layers.Conv2D(32, 3, strides=2, padding='same',\n",
    "                          input_shape=(28, 28, 1)),\n",
    "            layers.LeakyReLU(alpha=0.2),\n",
    "            layers.Dropout(0.5),\n",
    "            \n",
    "            layers.Conv2D(64, 3, padding='same'),\n",
    "            layers.BatchNormalization(),\n",
    "            layers.LeakyReLU(alpha=0.2),\n",
    "            layers.Dropout(0.5),\n",
    "            \n",
    "            layers.Conv2D(128, 3, strides=2, padding='same'),\n",
    "            layers.BatchNormalization(),\n",
    "            layers.LeakyReLU(alpha=0.2),\n",
    "            layers.Dropout(0.5),\n",
    "            \n",
    "            layers.Conv2D(256, 3, padding='same'),\n",
    "            layers.BatchNormalization(),\n",
    "            layers.LeakyReLU(alpha=0.2),\n",
    "            layers.Dropout(0.5),\n",
    "            \n",
    "            layers.GlobalMaxPooling2D(),\n",
    "            layers.Dense(1, activation='sigmoid')\n",
    "        ]\n",
    "    )\n",
    "    \n",
    "    return model"
   ]
  },
  {
   "cell_type": "code",
   "execution_count": 5,
   "id": "3b687b05",
   "metadata": {
    "execution": {
     "iopub.execute_input": "2022-01-03T10:48:30.746545Z",
     "iopub.status.busy": "2022-01-03T10:48:30.745933Z",
     "iopub.status.idle": "2022-01-03T10:48:30.884038Z",
     "shell.execute_reply": "2022-01-03T10:48:30.883441Z",
     "shell.execute_reply.started": "2022-01-03T10:41:27.087444Z"
    },
    "papermill": {
     "duration": 0.158095,
     "end_time": "2022-01-03T10:48:30.884174",
     "exception": false,
     "start_time": "2022-01-03T10:48:30.726079",
     "status": "completed"
    },
    "tags": []
   },
   "outputs": [],
   "source": [
    "discriminator = define_discriminator()"
   ]
  },
  {
   "cell_type": "code",
   "execution_count": 6,
   "id": "e7bddb0f",
   "metadata": {
    "execution": {
     "iopub.execute_input": "2022-01-03T10:48:30.929647Z",
     "iopub.status.busy": "2022-01-03T10:48:30.927931Z",
     "iopub.status.idle": "2022-01-03T10:48:30.930259Z",
     "shell.execute_reply": "2022-01-03T10:48:30.930712Z",
     "shell.execute_reply.started": "2022-01-03T10:41:27.185433Z"
    },
    "papermill": {
     "duration": 0.028385,
     "end_time": "2022-01-03T10:48:30.930849",
     "exception": false,
     "start_time": "2022-01-03T10:48:30.902464",
     "status": "completed"
    },
    "tags": []
   },
   "outputs": [],
   "source": [
    "def define_generator(latent_size):\n",
    "    model = tf.keras.Sequential(\n",
    "        [\n",
    "            layers.Dense(7 * 7 * 128, input_dim=latent_size),\n",
    "            layers.LeakyReLU(alpha=0.2),\n",
    "            layers.Reshape((7, 7, 128)),\n",
    "            \n",
    "            layers.Conv2DTranspose(128, 4, strides=2, padding='same',\n",
    "                                   kernel_initializer='glorot_normal'),\n",
    "            layers.LeakyReLU(alpha=0.2),\n",
    "            layers.BatchNormalization(),\n",
    "            \n",
    "            layers.Conv2DTranspose(128, 4, strides=2, padding='same',\n",
    "                                   kernel_initializer='glorot_normal'),\n",
    "            layers.LeakyReLU(alpha=0.2),\n",
    "            layers.BatchNormalization(),\n",
    "            \n",
    "            layers.Conv2D(1, 7, padding='same',\n",
    "                          activation='tanh',\n",
    "                          kernel_initializer='glorot_normal')\n",
    "        ]\n",
    "    )\n",
    "    \n",
    "    return model"
   ]
  },
  {
   "cell_type": "code",
   "execution_count": 7,
   "id": "af247443",
   "metadata": {
    "execution": {
     "iopub.execute_input": "2022-01-03T10:48:30.973146Z",
     "iopub.status.busy": "2022-01-03T10:48:30.972303Z",
     "iopub.status.idle": "2022-01-03T10:48:31.045296Z",
     "shell.execute_reply": "2022-01-03T10:48:31.044426Z",
     "shell.execute_reply.started": "2022-01-03T10:41:27.195078Z"
    },
    "papermill": {
     "duration": 0.097262,
     "end_time": "2022-01-03T10:48:31.045464",
     "exception": false,
     "start_time": "2022-01-03T10:48:30.948202",
     "status": "completed"
    },
    "tags": []
   },
   "outputs": [],
   "source": [
    "generator = define_generator(latent_dim)"
   ]
  },
  {
   "cell_type": "code",
   "execution_count": 8,
   "id": "50ab3996",
   "metadata": {
    "execution": {
     "iopub.execute_input": "2022-01-03T10:48:31.091957Z",
     "iopub.status.busy": "2022-01-03T10:48:31.091143Z",
     "iopub.status.idle": "2022-01-03T10:48:31.093057Z",
     "shell.execute_reply": "2022-01-03T10:48:31.093482Z",
     "shell.execute_reply.started": "2022-01-03T10:41:27.269788Z"
    },
    "papermill": {
     "duration": 0.031351,
     "end_time": "2022-01-03T10:48:31.093665",
     "exception": false,
     "start_time": "2022-01-03T10:48:31.062314",
     "status": "completed"
    },
    "tags": []
   },
   "outputs": [],
   "source": [
    "class GAN(tf.keras.Model):\n",
    "    def __init__(self, discriminator, generator, latent_dim):\n",
    "        super(GAN, self).__init__()\n",
    "        self.discriminator = discriminator\n",
    "        self.generator = generator\n",
    "        self.latent_dim = latent_dim\n",
    "\n",
    "    def compile(self, d_optimizer, g_optimizer, loss_fn):\n",
    "        super(GAN, self).compile()\n",
    "        self.d_optimizer = d_optimizer\n",
    "        self.g_optimizer = g_optimizer\n",
    "        self.loss_fn = loss_fn\n",
    "\n",
    "    def train_step(self, real_images):\n",
    "        if isinstance(real_images, tuple):\n",
    "            real_images = real_images[0]\n",
    "        batch_size = tf.shape(real_images)[0]\n",
    "        random_latent_vectors = tf.random.normal(shape=(batch_size, self.latent_dim))\n",
    "\n",
    "        generated_images = self.generator(random_latent_vectors)\n",
    "\n",
    "        combined_images = tf.concat([generated_images, real_images], axis=0)\n",
    "\n",
    "        labels = tf.concat(\n",
    "            [tf.ones((batch_size, 1)), tf.zeros((batch_size, 1))], axis=0\n",
    "        )\n",
    "        labels += 0.05 * tf.random.uniform(tf.shape(labels))\n",
    "\n",
    "        with tf.GradientTape() as tape:\n",
    "            predictions = self.discriminator(combined_images)\n",
    "            d_loss = self.loss_fn(labels, predictions)\n",
    "        grads = tape.gradient(d_loss, self.discriminator.trainable_weights)\n",
    "        self.d_optimizer.apply_gradients(\n",
    "            zip(grads, self.discriminator.trainable_weights)\n",
    "        )\n",
    "\n",
    "        random_latent_vectors = tf.random.normal(shape=(batch_size, self.latent_dim))\n",
    "\n",
    "        misleading_labels = tf.zeros((batch_size, 1))\n",
    "\n",
    "        with tf.GradientTape() as tape:\n",
    "            predictions = self.discriminator(self.generator(random_latent_vectors))\n",
    "            g_loss = self.loss_fn(misleading_labels, predictions)\n",
    "        grads = tape.gradient(g_loss, self.generator.trainable_weights)\n",
    "        self.g_optimizer.apply_gradients(zip(grads, self.generator.trainable_weights))\n",
    "        return {\"d_loss\": d_loss, \"g_loss\": g_loss}"
   ]
  },
  {
   "cell_type": "code",
   "execution_count": 9,
   "id": "a5c5616d",
   "metadata": {
    "execution": {
     "iopub.execute_input": "2022-01-03T10:48:31.134376Z",
     "iopub.status.busy": "2022-01-03T10:48:31.133507Z",
     "iopub.status.idle": "2022-01-03T10:48:31.135912Z",
     "shell.execute_reply": "2022-01-03T10:48:31.135514Z",
     "shell.execute_reply.started": "2022-01-03T10:41:27.285631Z"
    },
    "papermill": {
     "duration": 0.025632,
     "end_time": "2022-01-03T10:48:31.136063",
     "exception": false,
     "start_time": "2022-01-03T10:48:31.110431",
     "status": "completed"
    },
    "tags": []
   },
   "outputs": [],
   "source": [
    "class GANMonitor(tf.keras.callbacks.Callback):\n",
    "    def __init__(self, num_img=3, latent_dim=128):\n",
    "        self.num_img = num_img\n",
    "        self.latent_dim = latent_dim\n",
    "\n",
    "    def on_epoch_end(self, epoch, logs=None):\n",
    "        random_latent_vectors = tf.random.normal(shape=(self.num_img, self.latent_dim))\n",
    "        generated_images = self.model.generator(random_latent_vectors)\n",
    "        generated_images *= 255\n",
    "        generated_images.numpy()\n",
    "        for i in range(self.num_img):\n",
    "            img = tf.keras.preprocessing.image.array_to_img(generated_images[i])\n",
    "            img.save(\"generated_img_{i}_{epoch}.png\".format(i=i, epoch=epoch))"
   ]
  },
  {
   "cell_type": "code",
   "execution_count": 10,
   "id": "12ed89c5",
   "metadata": {
    "execution": {
     "iopub.execute_input": "2022-01-03T10:48:31.177180Z",
     "iopub.status.busy": "2022-01-03T10:48:31.176271Z",
     "iopub.status.idle": "2022-01-03T10:48:31.189916Z",
     "shell.execute_reply": "2022-01-03T10:48:31.189459Z",
     "shell.execute_reply.started": "2022-01-03T10:41:27.297263Z"
    },
    "papermill": {
     "duration": 0.036992,
     "end_time": "2022-01-03T10:48:31.190028",
     "exception": false,
     "start_time": "2022-01-03T10:48:31.153036",
     "status": "completed"
    },
    "tags": []
   },
   "outputs": [],
   "source": [
    "gan = GAN(discriminator=discriminator, generator=generator, latent_dim=latent_dim)\n",
    "gan.compile(\n",
    "        d_optimizer=tf.keras.optimizers.Adam(learning_rate=adam_lr, beta_1=adam_beta_1),\n",
    "        g_optimizer=tf.keras.optimizers.Adam(learning_rate=adam_lr, beta_1=adam_beta_1),\n",
    "        loss_fn=tf.keras.losses.BinaryCrossentropy(from_logits=True),\n",
    "    )"
   ]
  },
  {
   "cell_type": "code",
   "execution_count": 11,
   "id": "2efd06f9",
   "metadata": {
    "execution": {
     "iopub.execute_input": "2022-01-03T10:48:31.228391Z",
     "iopub.status.busy": "2022-01-03T10:48:31.227717Z",
     "iopub.status.idle": "2022-01-03T10:54:18.518916Z",
     "shell.execute_reply": "2022-01-03T10:54:18.519378Z",
     "shell.execute_reply.started": "2022-01-03T10:41:27.314640Z"
    },
    "papermill": {
     "duration": 347.31265,
     "end_time": "2022-01-03T10:54:18.519536",
     "exception": false,
     "start_time": "2022-01-03T10:48:31.206886",
     "status": "completed"
    },
    "tags": []
   },
   "outputs": [
    {
     "name": "stdout",
     "output_type": "stream",
     "text": [
      "Epoch 1/10\n"
     ]
    },
    {
     "name": "stderr",
     "output_type": "stream",
     "text": [
      "/opt/conda/lib/python3.7/site-packages/keras/backend.py:4994: UserWarning: \"`binary_crossentropy` received `from_logits=True`, but the `output` argument was produced by a sigmoid or softmax activation and thus does not represent logits. Was this intended?\"\n",
      "  '\"`binary_crossentropy` received `from_logits=True`, but the `output`'\n",
      "2022-01-03 10:48:32.786557: I tensorflow/compiler/mlir/mlir_graph_optimization_pass.cc:185] None of the MLIR Optimization Passes are enabled (registered 2)\n",
      "2022-01-03 10:48:34.731010: I tensorflow/stream_executor/cuda/cuda_dnn.cc:369] Loaded cuDNN version 8005\n"
     ]
    },
    {
     "name": "stdout",
     "output_type": "stream",
     "text": [
      "1094/1094 [==============================] - 33s 23ms/step - d_loss: 0.3746 - g_loss: 1.6876\n",
      "Epoch 2/10\n",
      "1094/1094 [==============================] - 24s 22ms/step - d_loss: 0.2686 - g_loss: 2.2705\n",
      "Epoch 3/10\n",
      "1094/1094 [==============================] - 24s 22ms/step - d_loss: 0.2679 - g_loss: 2.3496\n",
      "Epoch 4/10\n",
      "1094/1094 [==============================] - 24s 22ms/step - d_loss: 0.2666 - g_loss: 2.4003\n",
      "Epoch 5/10\n",
      "1094/1094 [==============================] - 25s 22ms/step - d_loss: 0.2685 - g_loss: 2.4114\n",
      "Epoch 6/10\n",
      "1094/1094 [==============================] - 24s 22ms/step - d_loss: 0.2649 - g_loss: 2.4607\n",
      "Epoch 7/10\n",
      "1094/1094 [==============================] - 25s 22ms/step - d_loss: 0.2657 - g_loss: 2.4662\n",
      "Epoch 8/10\n",
      "1094/1094 [==============================] - 24s 22ms/step - d_loss: 0.2586 - g_loss: 2.5417\n",
      "Epoch 9/10\n",
      "1094/1094 [==============================] - 24s 22ms/step - d_loss: 0.2583 - g_loss: 2.5590\n",
      "Epoch 10/10\n",
      "1094/1094 [==============================] - 24s 22ms/step - d_loss: 0.2490 - g_loss: 2.6681\n"
     ]
    },
    {
     "data": {
      "text/plain": [
       "<keras.callbacks.History at 0x7f4b65fb1550>"
      ]
     },
     "execution_count": 11,
     "metadata": {},
     "output_type": "execute_result"
    }
   ],
   "source": [
    "gan.fit(\n",
    "    dataset, epochs=epochs, callbacks=[GANMonitor(num_img=3, latent_dim=latent_dim)]\n",
    ")"
   ]
  },
  {
   "cell_type": "code",
   "execution_count": 12,
   "id": "3cb42b35",
   "metadata": {
    "execution": {
     "iopub.execute_input": "2022-01-03T10:54:20.534182Z",
     "iopub.status.busy": "2022-01-03T10:54:20.533602Z",
     "iopub.status.idle": "2022-01-03T10:54:20.537450Z",
     "shell.execute_reply": "2022-01-03T10:54:20.536949Z",
     "shell.execute_reply.started": "2022-01-03T10:46:55.826794Z"
    },
    "papermill": {
     "duration": 1.040082,
     "end_time": "2022-01-03T10:54:20.537565",
     "exception": false,
     "start_time": "2022-01-03T10:54:19.497483",
     "status": "completed"
    },
    "tags": []
   },
   "outputs": [
    {
     "data": {
      "image/png": "[encoded data removed]",
      "text/plain": [
       "<PIL.PngImagePlugin.PngImageFile image mode=L size=28x28 at 0x7F4B65F94810>"
      ]
     },
     "execution_count": 12,
     "metadata": {},
     "output_type": "execute_result"
    }
   ],
   "source": [
    "Image.open(\"generated_img_2_7.png\")"
   ]
  },
  {
   "cell_type": "code",
   "execution_count": 13,
   "id": "6f8b169e",
   "metadata": {
    "execution": {
     "iopub.execute_input": "2022-01-03T10:54:22.498946Z",
     "iopub.status.busy": "2022-01-03T10:54:22.498268Z",
     "iopub.status.idle": "2022-01-03T10:54:22.501511Z",
     "shell.execute_reply": "2022-01-03T10:54:22.501921Z",
     "shell.execute_reply.started": "2022-01-03T10:46:55.840095Z"
    },
    "papermill": {
     "duration": 0.985919,
     "end_time": "2022-01-03T10:54:22.502053",
     "exception": false,
     "start_time": "2022-01-03T10:54:21.516134",
     "status": "completed"
    },
    "tags": []
   },
   "outputs": [
    {
     "data": {
      "image/png": "[encoded data removed]",
      "text/plain": [
       "<PIL.PngImagePlugin.PngImageFile image mode=L size=28x28 at 0x7F4B65DE8110>"
      ]
     },
     "execution_count": 13,
     "metadata": {},
     "output_type": "execute_result"
    }
   ],
   "source": [
    "Image.open(\"generated_img_1_7.png\")"
   ]
  },
  {
   "cell_type": "code",
   "execution_count": 14,
   "id": "d48f01bc",
   "metadata": {
    "execution": {
     "iopub.execute_input": "2022-01-03T10:54:24.457029Z",
     "iopub.status.busy": "2022-01-03T10:54:24.456234Z",
     "iopub.status.idle": "2022-01-03T10:54:24.458915Z",
     "shell.execute_reply": "2022-01-03T10:54:24.459317Z",
     "shell.execute_reply.started": "2022-01-03T10:46:55.850205Z"
    },
    "papermill": {
     "duration": 0.986641,
     "end_time": "2022-01-03T10:54:24.459465",
     "exception": false,
     "start_time": "2022-01-03T10:54:23.472824",
     "status": "completed"
    },
    "tags": []
   },
   "outputs": [
    {
     "data": {
      "image/png": "[encoded data removed]",
      "text/plain": [
       "<PIL.PngImagePlugin.PngImageFile image mode=L size=28x28 at 0x7F4B5234AF50>"
      ]
     },
     "execution_count": 14,
     "metadata": {},
     "output_type": "execute_result"
    }
   ],
   "source": [
    "Image.open(\"generated_img_0_7.png\")"
   ]
  },
  {
   "cell_type": "code",
   "execution_count": 15,
   "id": "6160c28e",
   "metadata": {
    "execution": {
     "iopub.execute_input": "2022-01-03T10:54:26.684113Z",
     "iopub.status.busy": "2022-01-03T10:54:26.682743Z",
     "iopub.status.idle": "2022-01-03T10:54:26.687333Z",
     "shell.execute_reply": "2022-01-03T10:54:26.687774Z",
     "shell.execute_reply.started": "2022-01-03T10:46:55.858982Z"
    },
    "papermill": {
     "duration": 1.254807,
     "end_time": "2022-01-03T10:54:26.687908",
     "exception": false,
     "start_time": "2022-01-03T10:54:25.433101",
     "status": "completed"
    },
    "tags": []
   },
   "outputs": [
    {
     "data": {
      "image/png": "[encoded data removed]",
      "text/plain": [
       "<PIL.PngImagePlugin.PngImageFile image mode=L size=28x28 at 0x7F4B65F12A50>"
      ]
     },
     "execution_count": 15,
     "metadata": {},
     "output_type": "execute_result"
    }
   ],
   "source": [
    "Image.open(\"generated_img_2_9.png\")"
   ]
  },
  {
   "cell_type": "code",
   "execution_count": 16,
   "id": "cb9f19cc",
   "metadata": {
    "execution": {
     "iopub.execute_input": "2022-01-03T10:54:28.646627Z",
     "iopub.status.busy": "2022-01-03T10:54:28.645125Z",
     "iopub.status.idle": "2022-01-03T10:54:28.649843Z",
     "shell.execute_reply": "2022-01-03T10:54:28.650206Z",
     "shell.execute_reply.started": "2022-01-03T10:46:55.867710Z"
    },
    "papermill": {
     "duration": 0.989295,
     "end_time": "2022-01-03T10:54:28.650340",
     "exception": false,
     "start_time": "2022-01-03T10:54:27.661045",
     "status": "completed"
    },
    "tags": []
   },
   "outputs": [
    {
     "data": {
      "image/png": "[encoded data removed]",
      "text/plain": [
       "<PIL.PngImagePlugin.PngImageFile image mode=L size=28x28 at 0x7F4B51AD6BD0>"
      ]
     },
     "execution_count": 16,
     "metadata": {},
     "output_type": "execute_result"
    }
   ],
   "source": [
    "Image.open(\"generated_img_0_8.png\")"
   ]
  }
 ],
 "metadata": {
  "kernelspec": {
   "display_name": "Python 3",
   "language": "python",
   "name": "python3"
  },
  "language_info": {
   "codemirror_mode": {
    "name": "ipython",
    "version": 3
   },
   "file_extension": ".py",
   "mimetype": "text/x-python",
   "name": "python",
   "nbconvert_exporter": "python",
   "pygments_lexer": "ipython3",
   "version": "3.7.12"
  },
  "papermill": {
   "default_parameters": {},
   "duration": 380.69262,
   "end_time": "2022-01-03T10:54:32.591203",
   "environment_variables": {},
   "exception": null,
   "input_path": "__notebook__.ipynb",
   "output_path": "__notebook__.ipynb",
   "parameters": {},
   "start_time": "2022-01-03T10:48:11.898583",
   "version": "2.3.3"
  }
 },
 "nbformat": 4,
 "nbformat_minor": 5
}
